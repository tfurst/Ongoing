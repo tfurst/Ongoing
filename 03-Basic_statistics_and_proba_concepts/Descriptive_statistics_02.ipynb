{
 "cells": [
  {
   "cell_type": "markdown",
   "metadata": {},
   "source": [
    "# Descriptive statistics: common pdf and CDF"
   ]
  },
  {
   "cell_type": "markdown",
   "metadata": {},
   "source": [
    "- [Some very common Univariate distributions](#Some-very-common-distributions:)  \n",
    "    * [Bernouilli distribution](#Bernoulli)\n",
    "    * [Uniform distribution](#Uniform-distribution)\n",
    "    * [Binomial distribution](#Binomial)\n",
    "    * [Hypergeometric distribution](#Hypergeometric)\n",
    "    * [Poisson distribution](#Poisson-distribution)\n",
    "    * [Geometric distribution](#Geometric-distribution)\n",
    "    * [Gaussian distribution](#Gaussian-or-normal-distribution)\n",
    "    * [Chi2 distribution](#chi2)\n",
    "    * [Student's distribution](#Student's-distribution)\n",
    "    \n",
    "- [References and supplementary material](#X.-References-and-supplementary-material:)"
   ]
  },
  {
   "cell_type": "code",
   "execution_count": 1,
   "metadata": {},
   "outputs": [],
   "source": [
    "#Modules to be used in this notebook\n",
    "import numpy as np\n",
    "import scipy\n",
    "import matplotlib.pyplot as plt\n",
    "#%matplotlib inline    # No need to use %matplotlib inline if I use plt.show after running my code !\n",
    "#from IPython.html.widgets import interact\n",
    "from ipywidgets import interact"
   ]
  },
  {
   "cell_type": "code",
   "execution_count": 4,
   "metadata": {},
   "outputs": [],
   "source": [
    "# Some function for nice interactive pdf-CDF plot\n",
    "import scipy.stats\n",
    "#import numpy as np\n",
    "#import matplotlib.pyplot as plt\n",
    "#%matplotlib inline\n",
    "##from IPython.html.widgets import interact\n",
    "from ipywidgets import interact\n",
    "def plot_dist(x,n, continuous=True, distname=''):\n",
    "    '''\n",
    "    x : np.array\n",
    "        random variable\n",
    "    n : scipy.stats.ditrib\n",
    "        Distribution object\n",
    "    '''\n",
    "    fig, (ax1,ax2) = plt.subplots(1,2,figsize=(10,4.))\n",
    "    if continuous:\n",
    "        density = n.pdf\n",
    "        title = \"Probability Density Function (pdf)\"\n",
    "        plot_symbol = '-'\n",
    "    else:\n",
    "        density = n.pmf\n",
    "        title = \"Probability Mass Function\"\n",
    "        plot_symbol = 'bo'\n",
    "        \n",
    "    distribution = density(x)\n",
    "    ax1.plot(x, distribution, plot_symbol, color=\"blue\", label=distname)\n",
    "    if continuous:\n",
    "        ax1.fill_between(x, 0, distribution, color=\"blue\", alpha=0.6)\n",
    "    else:\n",
    "        ax1.vlines(x, 0, distribution, colors='b', lw=5, alpha=0.5)\n",
    "    ax1.set_title(title)\n",
    "    \n",
    "    if distname=='gauss':\n",
    "    # Plot mean and sigma for gaussian\n",
    "        x1, x2, x3 = n.mean(), n.mean()-n.std(), n.mean()+n.std()\n",
    "        ax1.vlines(x1, 0, n.pdf(x1), color='black')\n",
    "        ax1.vlines(x2, 0, n.pdf(x2), color='red')\n",
    "        ax1.vlines(x3, 0, n.pdf(x3), color='red')\n",
    "        \n",
    "        ax2.hlines(0.5, min(x), n.mean())\n",
    "        ax2.vlines(n.mean(), 0, 0.5)\n",
    "        ax2.hlines(0.5-0.3413, min(x), n.mean()-n.std(), color='red')\n",
    "        ax2.vlines(n.mean()-n.std(), 0, 0.5-0.3413, color='red')\n",
    "        ax2.hlines(0.5+0.3413, min(x), n.mean()+n.std(), color='red')\n",
    "        ax2.vlines(n.mean()+n.std(), 0, 0.5+0.3413, color='red')\n",
    "\n",
    "    cdf = n.cdf(x)\n",
    "    if continuous:\n",
    "        ax2.plot(x, cdf, lw=1, color=\"blue\", label=distname)\n",
    "        ax2.fill_between(x, 0, cdf, color=\"blue\", alpha=0.6)\n",
    "    else:\n",
    "        ax2.vlines(x, 0, cdf, colors='b', lw=5, alpha=0.5)\n",
    "    ax2.set_title(\"CDF\")\n",
    "    \n",
    "\n",
    "    return ax1, ax2\n",
    "\n",
    "# Note, this function is adapted from Daniela Huppenkothen and Fernando Perez \n",
    "# https://github.com/dhuppenkothen/ClassicalStatsPython"
   ]
  },
  {
   "cell_type": "markdown",
   "metadata": {},
   "source": [
    "# Some very common distributions:\n",
    "\n",
    "Relationship between common pdfs\n",
    "\n",
    "![CommonPDF](Figures/Common_PDF.png)\n"
   ]
  },
  {
   "cell_type": "markdown",
   "metadata": {},
   "source": [
    "### TOC: \n",
    "\n",
    "There are a lot of distributions and you may sometimes wonder how to choose one to describe your data ... If you keep in mind some examples of phenomena associated with common distributions, you'll more easily identify which distribution is relevant fo your science case. \n",
    "\n",
    "* [Bernouilli distribution](#Bernoulli): This is the distribution you get when you Toss a Coin.  \n",
    "* [Uniform distribution](#Uniform-distribution): This is the natural expansion of Bernoulli. Instead of 2 values (0,1), you have an ensemble of values: e.g. you throw a dice (instead of a coin). You can generalise to continuous uniform distributions.  \n",
    "* [Binomial distribution](#Binomial): This is the distribution that results from a binomial, number of heads in a toss coin (e.g. P(3 heads) among x trials). \n",
    "* [Hypergeometric distribution](#Hypergeometric): Cousin of Bernoulli. Finite sample, NO replacement\n",
    "* [Poisson distribution](#Poisson-distribution): related to binomial but low number of success / rare events ! This is the distribution you have when you collect photons with your telescope: many are sent but only a few are collected. \n",
    "* [Geometric distribution](#Geometric-distribution): Related to Berouilli. How many times do I need to flip a coin to get a success; E.g. Knowing a transit optical depth (i.e. proba. To get a transit when observing a star), what is the probability to get a transit after observing 2 stars. Knowing 1 lens/800 what is P(lens) after 100 QSO ? \n",
    "* [Gaussian distribution](#Gaussian-or-normal-distribution): This is the one you generally use because of the central limit theorem ... but be careful with abusive interpretation of this theorem. Your distribution is often not gaussian. \n",
    "* [Chi2 distribution](#chi2): this is the distribution followed by the sum of the square of $k$ independent, normally distributed, random variable.\n",
    "* [Student's distribution](#Student's-distribution): distribution that arises when you calculate the mean of a distribution, and an estimator of the std on the mean, when your sample is small. This is important when you want to quote errors with some confidence. "
   ]
  },
  {
   "cell_type": "markdown",
   "metadata": {},
   "source": [
    "## Bernoulli \n",
    "\n",
    "This is a distribution defined by a single parameter $p$. There is only *two* outcomes to the experiment: success or failure. \n",
    "\n",
    "$$\n",
    "Ber(k \\,|\\, p)\\,=\\,p^k\\,(1-p)^{k}  ~~~~ \\rm{for}~k~\\rm{in}~\\{0,1\\} \n",
    "$$\n",
    "\n",
    "Parameter: $p$ : Probability of trial being successful\n",
    "\n",
    "Expectation: $p$\n",
    "\n",
    "Standard Deviation: $\\sqrt{p\\,(1-p)}$\n",
    "\n",
    "**Example:** The best example of Bernouilli is the situation of a coin-toss (fair or unfair). \n",
    "\n",
    "This is a *discrete* distribution for a *variable* $k$ (that takes 2 values: 1 (success) or 0 (failure)).\n"
   ]
  },
  {
   "cell_type": "code",
   "execution_count": 5,
   "metadata": {},
   "outputs": [
    {
     "data": {
      "application/vnd.jupyter.widget-view+json": {
       "model_id": "e2e479cb8e384fe38159fd4ee15cbafd",
       "version_major": 2,
       "version_minor": 0
      },
      "text/plain": [
       "A Jupyter Widget"
      ]
     },
     "metadata": {},
     "output_type": "display_data"
    }
   ],
   "source": [
    "def bernouilli(p):\n",
    "    n = scipy.stats.bernoulli(p)   \n",
    "    x = np.linspace(0,1, 2)\n",
    "    plot_dist(x, n, continuous=False)\n",
    "    plt.show()\n",
    "    return\n",
    "\n",
    "interact(bernouilli, p=(0,1.));    # comment if ipywidget is not installed / does not work\n",
    "#bernouilli(0.4)   # Run this command if ipywidget does not work - modify params"
   ]
  },
  {
   "cell_type": "markdown",
   "metadata": {},
   "source": [
    "### Uniform distribution\n",
    "\n",
    "\n",
    "$$\n",
    "p(x \\, | \\, \\mu, W) = \\frac{1}{W} ~ \\mathrm{for}~|x-\\mu| \\leq \\frac{W}{2}, ~\\mathrm{and~0~otherwise}\n",
    "$$\n",
    "\n",
    "**Parameters:** $\\mu$, W \n",
    "\n",
    "Expectation: $\\mu$\n",
    "\n",
    "Standard Deviation: W / $\\sqrt{12}$\n",
    "\n",
    "**Example:** Throw a (fair) dice (discrete uniform distribution).  "
   ]
  },
  {
   "cell_type": "code",
   "execution_count": 9,
   "metadata": {},
   "outputs": [
    {
     "data": {
      "application/vnd.jupyter.widget-view+json": {
       "model_id": "bad3f7b0947f4ef9b86ecb05e414586c",
       "version_major": 2,
       "version_minor": 0
      },
      "text/plain": [
       "A Jupyter Widget"
      ]
     },
     "metadata": {},
     "output_type": "display_data"
    }
   ],
   "source": [
    "# Discrete version of the uniform distribution (that takes only integer random var)\n",
    "def uniform_dist(mu,W):\n",
    "    x = np.linspace(-10, 10, 21)\n",
    "    m2 = mu-W/2.\n",
    "    n = scipy.stats.randint(m2, m2+W)   # takes low and high as arguments\n",
    "    plot_dist(x,n, continuous=False)\n",
    "    plt.show()\n",
    "    return\n",
    "\n",
    "interact(uniform_dist, mu=(-10,10), W=(1, 10));# comment if ipywidget is not installed / does not work\n",
    "# uniform_dist(2,4)   # Run this command if ipywidget does not work - modify params"
   ]
  },
  {
   "cell_type": "code",
   "execution_count": 10,
   "metadata": {},
   "outputs": [
    {
     "data": {
      "application/vnd.jupyter.widget-view+json": {
       "model_id": "5bd0c16576304767bdded78aa143c4e6",
       "version_major": 2,
       "version_minor": 0
      },
      "text/plain": [
       "A Jupyter Widget"
      ]
     },
     "metadata": {},
     "output_type": "display_data"
    }
   ],
   "source": [
    "# Continuous version\n",
    "def uniform(mu,W):\n",
    "    x = np.linspace(-10, 20, 2000)\n",
    "    m2 = mu-W/2.\n",
    "    n = scipy.stats.uniform(m2, W)   # Define m2 because first argument is left edge\n",
    "    plot_dist(x,n)\n",
    "    plt.show()\n",
    "    return\n",
    "\n",
    "interact(uniform, mu=(-10.,10.), W=(0.001, 10.0));# comment if ipywidget is not installed / does not work\n",
    "# uniform(2,4)   # Run this command if ipywidget does not work - modify params"
   ]
  },
  {
   "cell_type": "markdown",
   "metadata": {},
   "source": [
    "### Binomial\n",
    "\n",
    "A binomial distribution is basically the sum of outcomes of things that follow a Bernoulli distribution.\n",
    "\n",
    "$$\n",
    "B(k\\,|\\,n\\,,p) = \\binom{n}{k}p^k(1-p)^{n-k} = \\frac{n!}{k!\\,(n-k)!}\\,p^k\\,(1-p)^{(n-k)}\n",
    "$$\n",
    "\n",
    "**Parameters**: \n",
    "\n",
    "* $n$ : Number of trials\n",
    "* $p$ : Probability of trial being successful\n",
    "\n",
    "Expectation: $np$\n",
    "\n",
    "Standard Deviation: $\\sqrt{n\\,p\\,(1-p)}$\n",
    "\n",
    "This is a *discrete* distribution for a *variable* $k$ (that takes only integer values). It is the distribution of *random variables that can take only two values* (i.e. success/failure; event happening/event not happening, ...). The distribution of the random variable $k$, $B(k|n,p)$, measures how many times success occured amoung $n$ trials.\n",
    "\n",
    "**Example:** \n",
    "- Toss a fair coin n times: how many times do you get a head (success = 1) ? \n",
    "- Urn with equal number of white / black ball *with replacement* \n",
    "- Pick galaxies on the sky: Elliptical-type/ other type. You know the fraction of ellipticals (e.g. p=0.2). What is the chance, if you observe 10 galaxies at random to observe 0, 1, 2, ... galaxies ? The answer is given by the binomial distribution. \n",
    "\n",
    "**Note 1**: If $n=1$, we find back the *Bernouilli* distribution \n",
    "\n",
    "**Note 2**: A generalisation of the binomial distribution is the multinomial distribution, if the random variables take more than 2 values, let's say M values with associated probabilities $p_1, p_2, ..., p_M$ (with $\\sum_i p_i = 1.$). This is called in python with `scipy.stats.multinomial(sample, [p1,p2,pn])`. See the example below: \n",
    "``` python \n",
    "# Let's consider 10 trials and 3 events A, B, C with p=(0.2, 0.5, 0.3) ; note that p_A + p_B + p_C = 1 \n",
    "n=10\n",
    "p=[0.2, 0.5, 0.3] # p_A = 0.2 ; p_B=0.5 ; p_C = 0.3 \n",
    "d = scipy.stats.multinomial(n, p)  # Frozen multinomial distribution with n=10, p=[0.2, 0.5, 0.3]\n",
    "# To calculate the probability of getting 3 times A, 4 times B, and 3 times C (A+B+C=10)\n",
    "x = [3, 4, 3]\n",
    "Pofx = d.pmf(x)  # only 1 argument if the distribution parameters have been defined previously: you work on a specific instance of the distribution\n",
    "# If you which to plot the full PMF, you'll need to make a 3D histogram ... and generate an array of (10*10*10, 3) and for each row i you have x[i, 0]+x[i,1]+x[i,2]=10 \n",
    "Out: 0.0567\n",
    "``` \n"
   ]
  },
  {
   "cell_type": "code",
   "execution_count": 11,
   "metadata": {},
   "outputs": [
    {
     "data": {
      "application/vnd.jupyter.widget-view+json": {
       "model_id": "7ad0cd1e5cf24a57a2872932171452d2",
       "version_major": 2,
       "version_minor": 0
      },
      "text/plain": [
       "A Jupyter Widget"
      ]
     },
     "metadata": {},
     "output_type": "display_data"
    }
   ],
   "source": [
    "def binomial(sample, p_success):\n",
    "    d = scipy.stats.binom(sample, p_success)\n",
    "    x = np.arange(d.ppf(0.01), d.ppf(0.99))\n",
    "    plot_dist(x, d, continuous=False)\n",
    "    plt.show()\n",
    "    return\n",
    "\n",
    "interact(binomial, sample=(1,200,1), p_success=(0.01,1,0.01)); # comment if ipywidget is not installed / does not work\n",
    "# binomial(10,0.2)   # Run this command if ipywidget does not work - modify params"
   ]
  },
  {
   "cell_type": "markdown",
   "metadata": {},
   "source": [
    "### Hypergeometric\n",
    "\n",
    "This is a cousin of the binomial distribution. It describes the probability of $k$ successes (random draws for which the object drawn has a specified feature) in $n$ draws, *without replacement*, from a finite population of size $N$ that contains exactly $K$ objects with that feature, wherein each draw is either a success or a failure. \n",
    "\n",
    "\n",
    "$$\n",
    "Hyp(k |\\,N,\\,K,\\,n) = \\frac{\\binom{K}{n} \\binom{N-K}{n-k} }{\\binom{N}{n}}\n",
    "$$\n",
    "\n",
    "**Parameters:**   \n",
    "\n",
    "* $N$ : the population size,\n",
    "* $K$ : the number of success states in the population,\n",
    "* $n$ : the number of draws,\n",
    "\n",
    "Expectation: $n \\frac{K}{N}$\n",
    "\n",
    "Standard Deviation: $\\sqrt{n\\,\\frac{K}{N}\\,\\frac{N-K}{N}\\,\\frac{N-n}{N-1} }$\n",
    "\n",
    "**Examples:**    \n",
    "- Urn with equal number of white / black ball *without* replacement \n",
    "- Stars in a field: Imagine that you observe a given field of the sky with 200 stars. You know that 10 of them are O-type and your instrument allows you to obtain 100 spectra. What is the probability that 5 of them are of the desired type ? 0.25 ; This is a bit different from the binomial case where you would know that the probability for the given star type is 0.05, and would obtain 100 spectra. The difference is subtle and comes from the fact that you know that there are 10 stars among the 200 that are of a given type. This is different of saying that the probability to observe such a star is 0.05.  "
   ]
  },
  {
   "cell_type": "code",
   "execution_count": 12,
   "metadata": {},
   "outputs": [
    {
     "data": {
      "application/vnd.jupyter.widget-view+json": {
       "model_id": "a3ef1aa467ed4bc09fb19d6b24fdf63d",
       "version_major": 2,
       "version_minor": 0
      },
      "text/plain": [
       "A Jupyter Widget"
      ]
     },
     "metadata": {},
     "output_type": "display_data"
    }
   ],
   "source": [
    "def hypergeom(sample, success, n_drawn):\n",
    "    d = scipy.stats.hypergeom(sample, success, n_drawn)\n",
    "    x = np.arange(d.ppf(0.01), d.ppf(0.99))\n",
    "    plot_dist(x, d, continuous=False)\n",
    "    plt.show()\n",
    "    return\n",
    "\n",
    "# Success, here is the number of times you got a success\n",
    "\n",
    "interact(hypergeom, sample=(0,200,1), success=(0, 199, 1), n_drawn=(1, 200, 1)); # comment if ipywidget is not installed / does not work\n",
    "# hypergeom(sample=200, success=10, n_drawn=100)   # Run this command if ipywidget does not work - modify params\n",
    "# Try with\n",
    "# Sample = 200 ; success = 10 (10/200 stars of desired type), n_drawn=100 ; \n",
    "# Compare with binomial using sample = 100,success = 200/10 = 0.05"
   ]
  },
  {
   "cell_type": "code",
   "execution_count": 13,
   "metadata": {},
   "outputs": [
    {
     "data": {
      "image/png": "[encoded data removed]",
      "text/plain": [
       "<matplotlib.figure.Figure at 0xa4fa77240>"
      ]
     },
     "metadata": {},
     "output_type": "display_data"
    }
   ],
   "source": [
    "binomial(100,0.05)"
   ]
  },
  {
   "cell_type": "markdown",
   "metadata": {},
   "source": [
    "## Poisson distribution\n",
    "\n",
    "This is a special case of the binomial distribution, when the number $N$ of trials goes to infinity, but the fraction of success (rate of an event) remains small. \n",
    "\n",
    "$$\n",
    "\\rm{Pois}(k\\,|\\,\\mu) = \\frac{\\mu^ke^{-\\mu}}{k!}\n",
    "$$\n",
    "\n",
    "**Parameters:** $\\mu$ - Anticipated number of (random) events\n",
    "\n",
    "Expectation: $\\mu$\n",
    "\n",
    "Standard Deviation: $\\sqrt{\\mu}$\n",
    "  \n",
    "**Example**: This is an important distribution in astronomy because it describes the distribution of the number of photons counted in a given interval. X-ray photons (especially of faint X-ray sources !) strictly follow Poisson distribution. When there are many photons, the distribution becomes close to a gaussian $N(\\mu, \\sqrt{\\mu})$. You can identify the trials to the photons sent (in all directions) but we collect only a few of them. In fact we can say that photons arrive at a rate $\\lambda$ $=>$ If I integrate over a time $t$, I measure $\\mu = \\lambda * t$ photons. The standard deviation is thus $\\sqrt{\\mu} = \\sqrt{\\lambda * t}$. Hence, in a photon limited case you have you Signal to Noise: $ \\frac{S}{N} = \\frac{\\mu}{\\sqrt{\\mu}} \\propto \\sqrt{t}$. If you want to double your Signal To Noise Ratio (S/N or SNR), you'll need to multiply your exposure time by 4. Instead, if you observe faint objects, you may be limited by the read out noise.\n",
    "\n",
    "**Note:** Originally Poisson distribution was developed to study the chance of a Prussian cavalryman to be killed by the kick of a horse. A relatively rare event.   "
   ]
  },
  {
   "cell_type": "code",
   "execution_count": 14,
   "metadata": {},
   "outputs": [
    {
     "data": {
      "application/vnd.jupyter.widget-view+json": {
       "model_id": "f61780ff37d741f0a60970eb1f7242c4",
       "version_major": 2,
       "version_minor": 0
      },
      "text/plain": [
       "A Jupyter Widget"
      ]
     },
     "metadata": {},
     "output_type": "display_data"
    }
   ],
   "source": [
    "def poisson(m):\n",
    "    d = scipy.stats.poisson(m)\n",
    "    x = np.arange(d.ppf(0.01), d.ppf(0.99))\n",
    "    plot_dist(x, d, continuous=False)\n",
    "    plt.show()\n",
    "    return\n",
    "\n",
    "interact(poisson, m=(1,20,1));  # comment if ipywidget is not installed / does not work\n",
    "# poisson(10)   # Run this command if ipywidget does not work - modify params"
   ]
  },
  {
   "cell_type": "markdown",
   "metadata": {},
   "source": [
    "## Geometric distribution\n",
    "\n",
    "The probability distribution of the number $k$ of Bernoulli trials needed to get one success. \n",
    "\n",
    "$$\n",
    "Geom(k\\,|\\,p) = (1-p)^{(k-1)}\\,p   ~~~~~~~ {\\rm{for\\,}} k\\,{\\rm{in}}\\, \\{1, 2, 3, ...\\}\n",
    "$$\n",
    "\n",
    "**Parameters:** $p$, the probability of a single success\n",
    "\n",
    "Expectation: $\\frac{1}{p}$\n",
    "\n",
    "Standard Deviation: $\\sqrt{\\frac{1-p}{p^2}}$\n",
    "\n",
    "**Example:** \n",
    "- How many times should I try flipping a coin before getting a success ? \n",
    "- Knowing the probability to observe a transit of a given depth, what is the probability to get a transit after observing only 2 stars ? To answer this question, you'll use the geometric distribution.  "
   ]
  },
  {
   "cell_type": "code",
   "execution_count": 15,
   "metadata": {},
   "outputs": [
    {
     "data": {
      "application/vnd.jupyter.widget-view+json": {
       "model_id": "43944cd9e79f4e6bbe670a6f4b6950fd",
       "version_major": 2,
       "version_minor": 0
      },
      "text/plain": [
       "A Jupyter Widget"
      ]
     },
     "metadata": {},
     "output_type": "display_data"
    }
   ],
   "source": [
    "def geometric(p):\n",
    "    d = scipy.stats.geom(p)\n",
    "    x = np.arange(d.ppf(0.01), d.ppf(0.99))\n",
    "    plot_dist(x, d, continuous=False)\n",
    "    plt.show()\n",
    "    return\n",
    "\n",
    "interact(geometric, p=(0.,1.,0.05));   # comment if ipywidget is not installed / does not work\n",
    "# geometric(0.35)   # Run this command if ipywidget does not work - modify params\n"
   ]
  },
  {
   "cell_type": "markdown",
   "metadata": {},
   "source": [
    "## Gaussian or normal distribution\n",
    "\n",
    "$$\n",
    "N(x | \\mu, \\sigma) = \\frac{1}{\\sqrt{2\\pi\\sigma^2}}e^{-\\frac{1}{2}\\left(\\frac{x - \\mu}{\\sigma}\\right)^2}\n",
    "$$\n",
    "\n",
    "**Parameters:** \n",
    "\n",
    "* $\\mu$ : central peak location\n",
    "* $\\sigma$: peak width\n",
    "\n",
    "Expectation: $\\mu$\n",
    "\n",
    "Standard Deviation: $\\sigma$"
   ]
  },
  {
   "cell_type": "code",
   "execution_count": 16,
   "metadata": {},
   "outputs": [
    {
     "data": {
      "application/vnd.jupyter.widget-view+json": {
       "model_id": "e2350c305767409ab19066eecfad9516",
       "version_major": 2,
       "version_minor": 0
      },
      "text/plain": [
       "A Jupyter Widget"
      ]
     },
     "metadata": {},
     "output_type": "display_data"
    }
   ],
   "source": [
    "def normal(mu,sigma):\n",
    "    x = np.linspace(-10, 20, 2000)\n",
    "    n = scipy.stats.norm(mu, sigma)\n",
    "    plot_dist(x,n, distname='gauss')\n",
    "    plt.show()\n",
    "    return\n",
    "\n",
    "interact(normal, mu=(-5.,10.), sigma=(0.001, 10.0)); # comment if ipywidget is not installed / does not work\n",
    "# normal(mu=0, sigma=5)   # Run this command if ipywidget does not work - modify params\n"
   ]
  },
  {
   "cell_type": "markdown",
   "metadata": {},
   "source": [
    "### Change of variable for a normal distribution\n",
    "\n",
    "Instead of considering a normal distribution of mean $\\mu$ and width $\\sigma$, one generally make a change of variable to end up to a \"canonical\" gaussian pdf centered in 0, and of width $\\sigma=1$, i.e. $N(0,1)$. \n",
    "If we write $y = (x-\\mu)/\\sigma$, then we have:\n",
    "\n",
    "$$\n",
    "N(0,1) \\, = \\frac{1}{\\sqrt{2\\pi}} \\, exp(-0.5\\,y^2)\n",
    "$$\n"
   ]
  },
  {
   "cell_type": "code",
   "execution_count": 17,
   "metadata": {},
   "outputs": [
    {
     "data": {
      "image/png": "[encoded data removed]",
      "text/plain": [
       "<matplotlib.figure.Figure at 0xa45e96be0>"
      ]
     },
     "metadata": {},
     "output_type": "display_data"
    }
   ],
   "source": [
    "# Illustration: distribution of (x-\\mu)/sigma\n",
    "x = np.linspace(0., 10., 100)\n",
    "mu, sigma = 5., 2. \n",
    "y = (x - mu) / sigma\n",
    "Nman = 1. / np.sqrt( 2. * np.pi ) * np.exp( -0.5 * y**2 )\n",
    "plt.figure()\n",
    "plt.plot(y, Nman, alpha=0.5, lw=3)\n",
    "\n",
    "x2 = np.linspace(-3.,3.,100)\n",
    "n_scipy = scipy.stats.norm()\n",
    "plt.plot(x2, n_scipy.pdf(x2), color='black')\n",
    "plt.show()"
   ]
  },
  {
   "cell_type": "markdown",
   "metadata": {},
   "source": []
  },
  {
   "cell_type": "markdown",
   "metadata": {},
   "source": [
    "## Chi square ($\\chi^2$) distribution   <a class=\"anchor\" id=\"chi2\"></a>\n",
    "\n",
    "If {x_i} are drawn from a gaussian distribution $N(\\mu, \\sigma)$, and if we define $z_i = (x - \\mu)/\\sigma$, and\n",
    "$Q = \\sum_{i=1}^{k} z_i^2$, the $\\chi^2$ distribution, with $k$ degrees of freedom is:      \n",
    "\n",
    "$$\n",
    "p(Q/k) \\equiv \\chi^2(Q \\, |\\, k) =  \\frac{1} {(2\\,\\Gamma(k/2))}  (Q/2)^{k/2-1}  \\exp(-Q/2)\n",
    "$$\n",
    "\n",
    "i.e. this is the distribution followed by the sum of the square of k independent, normally distributed, random variable. \n",
    "\n",
    "**Parameters:** $k$  (dof)\n",
    "\n",
    "Expectation: $k$ \n",
    "\n",
    "Standard deviation: $\\sqrt{2\\,k}$ \n",
    "\n",
    "Note that $\\Gamma(k) \\, \\equiv \\, (k-1)!$ ($k>0$). \n",
    "\n",
    "It is convenient to define $\\chi^2_{{\\rm dof}} \\, \\equiv \\, \\chi^2(Q/k \\, |\\, k)$ which has a mean of 1, and a standard deviation $\\sqrt{2 / k}$. "
   ]
  },
  {
   "cell_type": "code",
   "execution_count": 18,
   "metadata": {},
   "outputs": [
    {
     "data": {
      "application/vnd.jupyter.widget-view+json": {
       "model_id": "7011ba74fda94d5bb9d1d68d79e9eeec",
       "version_major": 2,
       "version_minor": 0
      },
      "text/plain": [
       "A Jupyter Widget"
      ]
     },
     "metadata": {},
     "output_type": "display_data"
    }
   ],
   "source": [
    "def chi2(k):\n",
    "    d = scipy.stats.chi2(k)\n",
    "    x = np.arange(d.ppf(0.01), d.ppf(0.99), 0.5)\n",
    "    plot_dist(x, d, continuous=True)\n",
    "    plt.show()\n",
    "    return\n",
    "\n",
    "interact(chi2, k=(1,20,1));"
   ]
  },
  {
   "cell_type": "markdown",
   "metadata": {},
   "source": [
    "## Student's distribution\n",
    "\n",
    "$$\n",
    "p(x \\, | \\, k) = \\frac{\\Gamma(\\frac{k+1}{2})}{\\sqrt{\\pi\\,k} \\, \\Gamma(k/2)} \\, \\left( 1 + \\frac{x^2}{k} \\right)^{-\\frac{k+1}{2} },\n",
    "$$\n",
    "\n",
    "**Parameters:** $k$ $\\equiv$ number of degrees of freedom (sometimes also writen $\\nu$). \n",
    "\n",
    "Expectation: 0 (if $k > 1$, undefined if $k=1$)\n",
    "\n",
    "Standard deviation: $\\sqrt{k/(k-2)}$ if $k > 2$\n",
    "\n",
    "\n",
    "If we take a sample on N measurement $\\{x_i\\}$ drawn from from a gaussian $N(\\mu, \\sigma)$, the random variable:\n",
    "\n",
    "$$\n",
    "t = \\frac{\\bar{x} \\,-\\, \\mu }{\\hat{\\sigma}/\\sqrt{N}}\n",
    "$$\n",
    "\n",
    "follows a Student's $t(k)$ distribution with $k = N-1$ dof. \n",
    "\n",
    "Note in the above formula, $\\bar{x}$ is an estimator of the mean $\\mu$ and $\\hat{\\sigma} = \\frac{1}{\\sqrt{N-1}} \\sqrt{\\sum_i(x_i-\\bar{x})^2}$, i.e. $\\hat{\\sigma}$ is the *estimator* of the standard deviation. \n",
    "\n",
    "Don't be confused ! The random variable:\n",
    "$$\n",
    "y = \\frac{\\bar{x} \\,-\\, \\mu }{\\sigma/\\sqrt{N}},\n",
    "$$\n",
    "where $\\sigma$ is the \"true\" (population) std dev of the distribution, follows a normal distribution $N(0, 1)$, not a Student's distribution. \n",
    "\n",
    "**Example**: The student's distribution is useful when calculating confidence interval or ratios of random variables drawn from normal distributions. "
   ]
  },
  {
   "cell_type": "code",
   "execution_count": 19,
   "metadata": {},
   "outputs": [
    {
     "data": {
      "application/vnd.jupyter.widget-view+json": {
       "model_id": "c538e21e6752494f92e167821ddce65c",
       "version_major": 2,
       "version_minor": 0
      },
      "text/plain": [
       "A Jupyter Widget"
      ]
     },
     "metadata": {},
     "output_type": "display_data"
    }
   ],
   "source": [
    "def student(k):\n",
    "    d = scipy.stats.t(k)\n",
    "    x = np.arange(d.ppf(0.01), d.ppf(0.99), 0.01)\n",
    "    plot_dist(x, d, continuous=True)\n",
    "    plt.show()\n",
    "    return\n",
    "\n",
    "interact(student, k=(0,20,0.5) );"
   ]
  },
  {
   "cell_type": "markdown",
   "metadata": {},
   "source": [
    "# X. References and supplementary material:\n",
    "\n",
    "Chapter 3 (3.2) of the book *Statistics, data mining and Machine learning in astronomy* by Z. Ivezic et al. in Princeton Series in Modern Astronomy.\n",
    "\n",
    "Relationships between probability density distributions: http://www.math.wm.edu/~leemis/chart/UDR/UDR.html \n",
    "\n",
    "Common PDFS: the crib sheet https://medium.com/@srowen/common-probability-distributions-347e6b945ce4\n",
    "\n",
    "*All of statistics: a concise course in statistical inference*, Wasserman 2004 (see also errata in http://www.stat.cmu.edu/~larry/all-of-statistics/).\n",
    "\n",
    "Numerical recipes by Press et al. Cambridge University press: Chapter 14"
   ]
  },
  {
   "cell_type": "code",
   "execution_count": null,
   "metadata": {
    "collapsed": true
   },
   "outputs": [],
   "source": []
  }
 ],
 "metadata": {
  "anaconda-cloud": {},
  "kernelspec": {
   "display_name": "Python [conda env:intel-python2]",
   "language": "python",
   "name": "conda-env-intel-python2-py"
  },
  "language_info": {
   "codemirror_mode": {
    "name": "ipython",
    "version": 3
   },
   "file_extension": ".py",
   "mimetype": "text/x-python",
   "name": "python",
   "nbconvert_exporter": "python",
   "pygments_lexer": "ipython3",
   "version": "3.6.3"
  },
  "widgets": {
   "state": {
    "73dcb2b4a9a948798983266546ccb720": {
     "views": [
      {
       "cell_index": 31
      }
     ]
    },
    "7debad9bd7b94e45ac3427ce107e9674": {
     "views": [
      {
       "cell_index": 38
      }
     ]
    }
   },
   "version": "1.2.0"
  }
 },
 "nbformat": 4,
 "nbformat_minor": 2
}
