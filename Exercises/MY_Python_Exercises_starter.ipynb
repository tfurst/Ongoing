{
 "cells": [
  {
   "cell_type": "markdown",
   "metadata": {},
   "source": [
    "# Exercises on lists, sets, functions and arrays\n",
    "\n",
    "To save time, for the following exercise, you can keep the function documentation to their minimum. "
   ]
  },
  {
   "cell_type": "code",
   "execution_count": 2,
   "metadata": {},
   "outputs": [],
   "source": [
    "import numpy as np\n",
    "from matplotlib import pyplot as plt"
   ]
  },
  {
   "cell_type": "markdown",
   "metadata": {},
   "source": [
    "1) Find the smallest element in a list of floats (or integers) without using numpy (you can use a `for loop`. "
   ]
  },
  {
   "cell_type": "code",
   "execution_count": 8,
   "metadata": {},
   "outputs": [
    {
     "name": "stdout",
     "output_type": "stream",
     "text": [
      "The smallest float of the list is : 1.13\n"
     ]
    }
   ],
   "source": [
    "L = [1.45, 7.49, 12.50, 1.13, 5.78]\n",
    "a = L[0]\n",
    "for i in range(len(L)):\n",
    "    if L[i] < a :\n",
    "        a = L[i]\n",
    "print('The smallest float of the list is :', a)"
   ]
  },
  {
   "cell_type": "markdown",
   "metadata": {},
   "source": [
    "2) Write a Python function that takes two lists and returns `True` if they have at least one common member. "
   ]
  },
  {
   "cell_type": "code",
   "execution_count": 17,
   "metadata": {},
   "outputs": [
    {
     "data": {
      "text/plain": [
       "False"
      ]
     },
     "execution_count": 17,
     "metadata": {},
     "output_type": "execute_result"
    }
   ],
   "source": [
    "def common_list(L1, L2):\n",
    "    for i in range(len(L1)):\n",
    "        for j in range(len(L2)):\n",
    "            if L1[i] == L2[j]:\n",
    "                answer = True\n",
    "                return answer\n",
    "            else :\n",
    "                answer = False\n",
    "    return answer\n",
    "\n",
    "L1 = [1, 3.4, 56, 'hello']\n",
    "L2 = [3.45, 5, 10, 'hi']\n",
    "\n",
    "common_list(L1,L2)"
   ]
  },
  {
   "cell_type": "code",
   "execution_count": null,
   "metadata": {},
   "outputs": [],
   "source": []
  },
  {
   "cell_type": "markdown",
   "metadata": {},
   "source": [
    "3) Remove even numbers from a list of integers. "
   ]
  },
  {
   "cell_type": "code",
   "execution_count": 5,
   "metadata": {},
   "outputs": [
    {
     "name": "stdout",
     "output_type": "stream",
     "text": [
      "[5, 9, 33]\n"
     ]
    },
    {
     "data": {
      "text/plain": [
       "[1, 3, 5, 7, 9]"
      ]
     },
     "execution_count": 5,
     "metadata": {},
     "output_type": "execute_result"
    }
   ],
   "source": [
    "def just_odd(L):\n",
    "    L_final = []\n",
    "    for i in range(len(L)):\n",
    "        if L[i] % 2 != 0. :\n",
    "            L_final.append(L[i])\n",
    "    return L_final \n",
    "\n",
    "L = [2, 5, 8, 14, 9, 33]\n",
    "print(just_odd(L))\n",
    "\n",
    "# Other way\n",
    "L4 = list(np.arange(0,10))\n",
    "L4 = [ x for x in L4 if x%2 != 0]\n",
    "L4"
   ]
  },
  {
   "cell_type": "markdown",
   "metadata": {},
   "source": [
    "4) Write a command to remove duplicates (i.e. non unique values) from a list "
   ]
  },
  {
   "cell_type": "code",
   "execution_count": 7,
   "metadata": {},
   "outputs": [
    {
     "name": "stdout",
     "output_type": "stream",
     "text": [
      "[0, 3, 5, 6, 2]\n"
     ]
    },
    {
     "data": {
      "text/plain": [
       "[1, 3, 5]"
      ]
     },
     "execution_count": 7,
     "metadata": {},
     "output_type": "execute_result"
    }
   ],
   "source": [
    "def duplicates(L):\n",
    "    L2 = L\n",
    "    L_final = []\n",
    "    for i in range(len(L2)) :\n",
    "        test = L2[i]\n",
    "        for j in range(len(L2)) : \n",
    "            if (test == L2[j] and j != i) :\n",
    "                L2[j] = 'not ok'\n",
    "                \n",
    "    for p in range(len(L2)) :\n",
    "        if L2[p] != 'not ok' :\n",
    "            L_final.append(L2[p])\n",
    "\n",
    "    return L_final \n",
    "\n",
    "L = [0, 3, 5, 6, 0, 2, 5]\n",
    "print(duplicates(L))\n",
    "\n",
    "# Very easier way, we convert a set into a list\n",
    "L = [ 1, 3, 5, 1, 3]\n",
    "L2 = list(set(L))\n",
    "L2"
   ]
  },
  {
   "cell_type": "markdown",
   "metadata": {},
   "source": [
    "5) Create a list by concatenating a given list of string L1 with whith integers ranging from 1 to n.\n",
    "Sample list : `L1 =  ['fa_', 'fb_']\n",
    "`n = 4`\n",
    "Sample Output : `['fa_1', 'fa_2', 'fa_3', 'fa_4', 'fb_1', 'fb_2', 'fb_3', 'fb_4']`"
   ]
  },
  {
   "cell_type": "code",
   "execution_count": 9,
   "metadata": {},
   "outputs": [
    {
     "name": "stdout",
     "output_type": "stream",
     "text": [
      "['fa_1', 'fa_2', 'fa_3', 'fa_4', 'fb_1', 'fb_2', 'fb_3', 'fb_4']\n",
      "['fa_1', 'fa_2', 'fa_3', 'fa_4', 'fb_1', 'fb_2', 'fb_3', 'fb_4']\n"
     ]
    }
   ],
   "source": [
    "def concatenate (L, n) :\n",
    "    L_final = []\n",
    "    for i in range(len(L)) :\n",
    "        for j in range(n) :\n",
    "            L_final.append(L[i] + '%i' %(j+1))\n",
    "            \n",
    "    return L_final\n",
    "\n",
    "L1 =  ['fa_', 'fb_']\n",
    "print(concatenate(L1, 4))\n",
    "\n",
    "# Easier way, I cant just have made + str(i)\n",
    "L1 =  ['fa_', 'fb_']\n",
    "L2 = [l+str(i) for l in L1 for i in range(1,5)]\n",
    "print(L2)"
   ]
  },
  {
   "cell_type": "markdown",
   "metadata": {},
   "source": [
    "6) Find missing and additional values in two lists.     \n",
    "Sample lists: list1 = ['a','b','c','d','e','f'], list2 = ['d','e','f','g','h']    \n",
    "Expected output: \n",
    "```python\n",
    "Missing values in second list:  ['c', 'b', 'a']\n",
    "Additional values in second list:  ['h', 'g']\n",
    "```\n",
    "\n",
    "*TIP:* Search in the help if there is no built-in method associated to `set` that could be helpful . "
   ]
  },
  {
   "cell_type": "code",
   "execution_count": 50,
   "metadata": {
    "scrolled": true
   },
   "outputs": [
    {
     "name": "stdout",
     "output_type": "stream",
     "text": [
      "Missing values in second list: ['a', 'b', 'c']\n",
      "Additionnal values in second list: ['h', 'g']\n"
     ]
    }
   ],
   "source": [
    "# The list(set()) converts a list into a set to be able to\n",
    "# use the function difference\n",
    "list1 = ['a','b','c','d','e','f']\n",
    "list2 = ['d','e','f','g','h']\n",
    "print('Missing values in second list:', list(set(list1).difference(set(list2))))\n",
    "print('Additionnal values in second list:', list(set(list2).difference(set(list1))))"
   ]
  },
  {
   "cell_type": "code",
   "execution_count": null,
   "metadata": {},
   "outputs": [],
   "source": [
    "# set. + tab gives a proposition of function and set.difference()\n",
    "# + shift tab gives the documentation of the function if we are\n",
    "# in the paranthesis of the function difference\n",
    "set.difference()"
   ]
  },
  {
   "cell_type": "markdown",
   "metadata": {},
   "source": [
    "7) You have a tule `tup = (1, 2, 'a', 3)`. How do you convert this tuple into 4 variables 'v1, v2, v3, v4'"
   ]
  },
  {
   "cell_type": "code",
   "execution_count": 21,
   "metadata": {},
   "outputs": [
    {
     "name": "stdout",
     "output_type": "stream",
     "text": [
      "1 2 a 3\n",
      "1\n"
     ]
    }
   ],
   "source": [
    "tup = (1, 2, 'a', 3)\n",
    "v1, v2, v3, v4 = tup\n",
    "print(v1, v2, v3, v4)\n",
    "\n",
    "# Or\n",
    "v1_prime = tup[0]\n",
    "print(v1_prime)"
   ]
  },
  {
   "cell_type": "markdown",
   "metadata": {},
   "source": [
    "8) Write a function \"convert_temperature()\" that converts degrees celcius into Farenheit and vice-versa. Write your function such that the user enters the temperature (integer value) followed by \"F\" for farenheit and \"C\" for degrees. The conversion between degrees and Farenheit is the following: \n",
    "\n",
    "$$ \n",
    "\\frac{C}{5} = \\frac{(F - 32)}{9}\n",
    "$$\n",
    "\n",
    "Try to use the `input` command such that the user can answer interactively to the following question: \"Input the  temperature you like to convert? (e.g., 45F, 102C etc.) : \" "
   ]
  },
  {
   "cell_type": "code",
   "execution_count": 62,
   "metadata": {},
   "outputs": [
    {
     "name": "stdout",
     "output_type": "stream",
     "text": [
      "What is the value that you want to convert (ex. 45C or 67F) ? : 67F\n",
      "The temperature in degree Celsius is : 19 C (it has been round up to the last digit)\n"
     ]
    }
   ],
   "source": [
    "def convert_temperature():\n",
    "    '''\n",
    "    '''\n",
    "    input_value = input('What is the value that you want to convert (ex. 45C or 67F) ? : ')\n",
    "    value = int(input_value[:-1])\n",
    "    unit = input_value[-1]\n",
    "    if unit == 'F' : \n",
    "        answer = int((5/9) * (value - 32))\n",
    "        print('The temperature in degree Celsius is :', answer,'C (it has been round up to the last digit)')\n",
    "        return\n",
    "    elif unit == 'C' :\n",
    "        answer = int(((9/5) * value) + 32)\n",
    "        print('The temperature in Farenheit is :', answer,'F (it has been round up to the last digit)')\n",
    "        return\n",
    "    else :\n",
    "        print('The input has not been recognized')\n",
    "        return\n",
    "    \n",
    "    return\n",
    "convert_temperature()"
   ]
  },
  {
   "cell_type": "code",
   "execution_count": 25,
   "metadata": {},
   "outputs": [
    {
     "name": "stdout",
     "output_type": "stream",
     "text": [
      "Give me a number67\n"
     ]
    }
   ],
   "source": [
    "# It will save the value into a string so we have to convert it if\n",
    "# we want to use it \n",
    "input_value = input('Give me a number')"
   ]
  },
  {
   "cell_type": "code",
   "execution_count": 26,
   "metadata": {},
   "outputs": [
    {
     "data": {
      "text/plain": [
       "'67'"
      ]
     },
     "execution_count": 26,
     "metadata": {},
     "output_type": "execute_result"
    }
   ],
   "source": [
    "input_value"
   ]
  },
  {
   "cell_type": "code",
   "execution_count": 27,
   "metadata": {},
   "outputs": [],
   "source": [
    "# Try without the function upper if it works"
   ]
  },
  {
   "cell_type": "markdown",
   "metadata": {},
   "source": [
    "9) Calculate Fibonacci series between up to the value of your choice. The Fibonacci Sequence is the series of numbers : 0, 1, 1, 2, 3, 5, 8, 13, 21, ... Every next number is found by adding up the two numbers before it. Check that the ratio between a value of the series and the previous one (after 3rd one) converges to the \"gold number\" $\\phi = $ 1.618. "
   ]
  },
  {
   "cell_type": "code",
   "execution_count": 101,
   "metadata": {},
   "outputs": [
    {
     "name": "stdout",
     "output_type": "stream",
     "text": [
      "Type the number up to which you want to calculate the Fibonacci sequence :200\n",
      "Here is the Fibonacci serie up to 200\n",
      "[0, 1, 1, 2, 3, 5, 8, 13, 21, 34, 55, 89, 144, 233]\n",
      "Here is the convergence of the ratio [1.0, 2.0, 1.5, 1.6666666666666667, 1.6, 1.625, 1.6153846153846154, 1.619047619047619, 1.6176470588235294, 1.6181818181818182, 1.6179775280898876, 1.6180555555555556]\n"
     ]
    },
    {
     "data": {
      "text/plain": [
       "[<matplotlib.lines.Line2D at 0x23e1007cd30>]"
      ]
     },
     "execution_count": 101,
     "metadata": {},
     "output_type": "execute_result"
    },
    {
     "data": {
      "image/png": "[encoded data removed]",
      "text/plain": [
       "<Figure size 432x288 with 1 Axes>"
      ]
     },
     "metadata": {
      "needs_background": "light"
     },
     "output_type": "display_data"
    }
   ],
   "source": [
    "number = int(input('Type the number up to which you want to calculate the Fibonacci sequence :'))\n",
    "y_0 = 0\n",
    "y_1 = 1\n",
    "serie = [0,1]\n",
    "ratio = []\n",
    "while y_1 < number : \n",
    "    y_next = y_0 + y_1\n",
    "    serie.append(y_next)\n",
    "    y_0 = y_1\n",
    "    y_1 = y_next\n",
    "    ratio.append(y_1 / y_0)\n",
    "print('Here is the Fibonacci serie up to', number)\n",
    "print(serie)\n",
    "print('Here is the convergence of the ratio', ratio)\n",
    "plt.plot(ratio)"
   ]
  },
  {
   "cell_type": "code",
   "execution_count": null,
   "metadata": {},
   "outputs": [],
   "source": []
  },
  {
   "cell_type": "markdown",
   "metadata": {},
   "source": [
    "10) Write a function to check if a string reprensents an integer or not. (e.g. '12345' is an integer but '123d45' is NOT an integer). "
   ]
  },
  {
   "cell_type": "code",
   "execution_count": 108,
   "metadata": {},
   "outputs": [
    {
     "name": "stdout",
     "output_type": "stream",
     "text": [
      "The value is an integer\n",
      "The value is not an integer\n"
     ]
    }
   ],
   "source": [
    "test1 = '12345'\n",
    "test2 = '123d45'\n",
    "\n",
    "def int_or_not(value) :\n",
    "    '''\n",
    "    '''\n",
    "    for j,ss in enumerate(value) : \n",
    "        if ss not in '-0123456789' : \n",
    "            print('The value is not an integer')\n",
    "            return\n",
    "    print('The value is an integer')\n",
    "    return\n",
    "\n",
    "int_or_not(test1)\n",
    "int_or_not(test2)"
   ]
  },
  {
   "cell_type": "code",
   "execution_count": null,
   "metadata": {},
   "outputs": [],
   "source": []
  },
  {
   "cell_type": "code",
   "execution_count": 30,
   "metadata": {},
   "outputs": [
    {
     "name": "stdout",
     "output_type": "stream",
     "text": [
      "0 1\n",
      "1 2\n",
      "2 3\n",
      "3 d\n",
      "4 4\n",
      "5 5\n"
     ]
    }
   ],
   "source": [
    "#  j is the index and ss the element correspondind to the index\n",
    "s = '123d45'\n",
    "for j, ss in enumerate(s) :\n",
    "    print(j,ss)"
   ]
  },
  {
   "cell_type": "markdown",
   "metadata": {},
   "source": [
    "11) Create a 3x3 numpy array with values ranging from 2 to 10.    \n",
    "Expected output     \n",
    "\n",
    "```\n",
    "array([[ 2,  3,  4],\n",
    "       [ 5,  6,  7],\n",
    "       [ 8,  9, 10]])\n",
    "```"
   ]
  },
  {
   "cell_type": "code",
   "execution_count": 32,
   "metadata": {},
   "outputs": [
    {
     "data": {
      "text/plain": [
       "array([[ 2,  3,  4],\n",
       "       [ 5,  6,  7],\n",
       "       [ 8,  9, 10]])"
      ]
     },
     "execution_count": 32,
     "metadata": {},
     "output_type": "execute_result"
    }
   ],
   "source": [
    "# Do not forget the 2 couples of paranthesis\n",
    "np.arange(2,11).reshape((3,3))"
   ]
  },
  {
   "cell_type": "markdown",
   "metadata": {},
   "source": [
    "12) Reverse a 1D numpy array (first element becomes last).    \n",
    "\n",
    "```\n",
    "[INPUT] array([40, 41, 42, 43, 44, 45, 46, 47, 48, 49])\n",
    "[OUTPUT] array([49, 48, 47, 46, 45, 44, 43, 42, 41, 40])\n",
    "```"
   ]
  },
  {
   "cell_type": "code",
   "execution_count": 33,
   "metadata": {},
   "outputs": [
    {
     "name": "stdout",
     "output_type": "stream",
     "text": [
      "[40 41 42 43 44 45 46 47 48 49] [49 48 47 46 45 44 43 42 41 40]\n"
     ]
    }
   ],
   "source": [
    "a = np.arange(40,50)\n",
    "a_backward = a[::-1]\n",
    "print(a, a_backward)"
   ]
  },
  {
   "cell_type": "markdown",
   "metadata": {},
   "source": [
    "13) Write a numpy code to \"add\" a border filled with 0's around an existing 2D array. Take an array of 3x3 filled with ones.    \n",
    "TIP: Search how to use the `numpy.pad()` method. "
   ]
  },
  {
   "cell_type": "code",
   "execution_count": 38,
   "metadata": {},
   "outputs": [
    {
     "name": "stdout",
     "output_type": "stream",
     "text": [
      "Orginal array :\n",
      "[[1. 1. 1.]\n",
      " [1. 1. 1.]\n",
      " [1. 1. 1.]]\n",
      "O on the border and 1 inside the array :\n",
      "[[0. 0. 0. 0. 0.]\n",
      " [0. 1. 1. 1. 0.]\n",
      " [0. 1. 1. 1. 0.]\n",
      " [0. 1. 1. 1. 0.]\n",
      " [0. 0. 0. 0. 0.]]\n"
     ]
    }
   ],
   "source": [
    "# Wouldn't be able to do it on my own. Pad = garnir\n",
    "# pad_width is the number of column and rows that we are adding\n",
    "# around the array\n",
    "# constant_values is the value we are adding\n",
    "x = np.ones((3,3))\n",
    "print('Orginal array :')\n",
    "print(x)\n",
    "print('O on the border and 1 inside the array :')\n",
    "x = np.pad(x, pad_width=1, mode='constant', constant_values=0)\n",
    "print(x)"
   ]
  },
  {
   "cell_type": "markdown",
   "metadata": {},
   "source": [
    "14) Concatenate the 3 arrays `a1=[10, 20, 30]`, `a2 = [40, 50, 60]`, `a3=[70, 80, 90]` into a single array `[10 20 30 40 50 60 70 80 90]` (there are at least 2 ways to reach the result with a single command line: try them both). "
   ]
  },
  {
   "cell_type": "code",
   "execution_count": 46,
   "metadata": {},
   "outputs": [
    {
     "name": "stdout",
     "output_type": "stream",
     "text": [
      "[10, 20, 30, 40, 50, 60, 70, 80, 90]\n",
      "[10 20 30 40 50 60 70 80 90]\n"
     ]
    }
   ],
   "source": [
    "a1=[10, 20, 30]\n",
    "a2 = [40, 50, 60]\n",
    "a3=[70, 80, 90]\n",
    "a_final = a1 + a2 + a3\n",
    "print(a_final)\n",
    "\n",
    "# Or \n",
    "a1=[10, 20, 30]\n",
    "a2 = [40, 50, 60]\n",
    "a3=[70, 80, 90]\n",
    "print(np.concatenate((a1, a2, a3)))"
   ]
  },
  {
   "cell_type": "code",
   "execution_count": null,
   "metadata": {},
   "outputs": [],
   "source": []
  },
  {
   "cell_type": "markdown",
   "metadata": {},
   "source": [
    "15) Sort the following array of shape=(3,2) `[[10, 5, 1], [20, 8, 2], [5, 2, 0]]` along the first axis, last axis and on flattened array. Compare the results. How do you get the indices that would sort your array ? "
   ]
  },
  {
   "cell_type": "code",
   "execution_count": 11,
   "metadata": {},
   "outputs": [
    {
     "data": {
      "text/plain": [
       "array([[10,  5,  1],\n",
       "       [20,  8,  2],\n",
       "       [ 5,  2,  0]])"
      ]
     },
     "execution_count": 11,
     "metadata": {},
     "output_type": "execute_result"
    }
   ],
   "source": [
    "a = np.array([[10, 5, 1], [20, 8, 2], [5, 2, 0]])\n",
    "a"
   ]
  },
  {
   "cell_type": "code",
   "execution_count": 8,
   "metadata": {},
   "outputs": [
    {
     "data": {
      "text/plain": [
       "array([[ 5,  2,  0],\n",
       "       [10,  5,  1],\n",
       "       [20,  8,  2]])"
      ]
     },
     "execution_count": 8,
     "metadata": {},
     "output_type": "execute_result"
    }
   ],
   "source": [
    "a.sort(axis=0)\n",
    "a"
   ]
  },
  {
   "cell_type": "code",
   "execution_count": 12,
   "metadata": {},
   "outputs": [
    {
     "data": {
      "text/plain": [
       "array([[ 1,  5, 10],\n",
       "       [ 2,  8, 20],\n",
       "       [ 0,  2,  5]])"
      ]
     },
     "execution_count": 12,
     "metadata": {},
     "output_type": "execute_result"
    }
   ],
   "source": [
    "a.sort(axis=1)\n",
    "a"
   ]
  },
  {
   "cell_type": "code",
   "execution_count": 14,
   "metadata": {},
   "outputs": [
    {
     "data": {
      "text/plain": [
       "array([ 0,  1,  2,  2,  5,  5,  8, 10, 20])"
      ]
     },
     "execution_count": 14,
     "metadata": {},
     "output_type": "execute_result"
    }
   ],
   "source": [
    "np.sort(a.flatten())"
   ]
  },
  {
   "cell_type": "code",
   "execution_count": null,
   "metadata": {},
   "outputs": [],
   "source": []
  },
  {
   "cell_type": "markdown",
   "metadata": {},
   "source": [
    "16) Using numpy methods/function, compute the mean, standard deviation, and variance of a given 2D array (e.g. of shape (3,4)) along the second axis (i.e. average of the rows).      \n",
    "\n",
    "BONUS: Calculate the variance using the formula of the variance. For an ensemble of points ${x_1, x_2, ..., x_n}$, the variance is given by: \n",
    "$$\n",
    "\\sigma^2 = \\sum_i^n \\frac{(x_i - \\bar{x})^2}{n}, \n",
    "$$\n",
    "where ${\\bar{x}}$ is is the mean of $x_i$"
   ]
  },
  {
   "cell_type": "code",
   "execution_count": 33,
   "metadata": {},
   "outputs": [
    {
     "name": "stdout",
     "output_type": "stream",
     "text": [
      "This is the original array :\n",
      "[[ 1  2  3  2]\n",
      " [10 20 20 30]\n",
      " [25 30 30 35]]\n",
      "There is the average of the rows/mean along the second axis :\n",
      "[ 2. 20. 30.]\n",
      "There is the standard deviation along the second axis :\n",
      "[0.70710678 7.07106781 3.53553391]\n",
      "There is the variance along the second axis :\n",
      "[ 0.5 50.  12.5]\n",
      "There is the variance with the formula version along the second axis :\n",
      "[ 0.5 50.  12.5]\n"
     ]
    }
   ],
   "source": [
    "a = np.array([[1, 2, 3, 2], [10, 20, 20, 30], [25, 30, 30, 35]])\n",
    "print('This is the original array :')\n",
    "print(a)\n",
    "print('There is the average of the rows/mean along the second axis :')\n",
    "print(a.mean(axis=1))\n",
    "print('There is the standard deviation along the second axis :')\n",
    "print(a.std(axis=1))\n",
    "print('There is the variance along the second axis :')\n",
    "print(a.var(axis=1))\n",
    "print('There is the variance with the formula version along the second axis :')\n",
    "average = a.mean(axis=1)\n",
    "print(np.mean((a - average.reshape(3,1))**2, axis=1))"
   ]
  },
  {
   "cell_type": "markdown",
   "metadata": {},
   "source": [
    "17) Find which elements in a numpy array are NaN (TIP: for a NaN, a != a). Use the numpy help to find if which numpy methods allow you to find if there are infinite / finite (ignoring Nan, inf) values in an array, and/or find if there are nans. Is there also methods allowing you to calculate the mean, min, max, ... ignoring NaN ?     \n",
    "Examples / test arrays:     \n",
    "```python \n",
    "a = np.array([1, np.nan, 3, -np.inf, -4, np.inf, 19])\n",
    "b = np.array([1, np.nan, 3, -1, -4, 4])\n",
    "```"
   ]
  },
  {
   "cell_type": "code",
   "execution_count": 43,
   "metadata": {},
   "outputs": [
    {
     "name": "stdout",
     "output_type": "stream",
     "text": [
      "The element 1 is a NaN\n",
      "The element 2 is a NaN\n"
     ]
    }
   ],
   "source": [
    "a = np.array([1, np.nan, 3, -np.inf, -4, np.inf, 19])\n",
    "b = np.array([1, 2, np.nan, 3, -1, -4, 4])\n",
    "\n",
    "def find_nan(test):\n",
    "    for i in range(len(test)) :\n",
    "        if test[i] != test[i] :\n",
    "            print('The element %i is a NaN' %i)\n",
    "    return\n",
    "\n",
    "find_nan(a)\n",
    "find_nan(b)"
   ]
  },
  {
   "cell_type": "code",
   "execution_count": 44,
   "metadata": {},
   "outputs": [
    {
     "data": {
      "text/plain": [
       "(array([1], dtype=int64),)"
      ]
     },
     "execution_count": 44,
     "metadata": {},
     "output_type": "execute_result"
    }
   ],
   "source": [
    "np.where(a!=a)"
   ]
  },
  {
   "cell_type": "code",
   "execution_count": 45,
   "metadata": {},
   "outputs": [
    {
     "data": {
      "text/plain": [
       "(array([2], dtype=int64),)"
      ]
     },
     "execution_count": 45,
     "metadata": {},
     "output_type": "execute_result"
    }
   ],
   "source": [
    "np.where(b!=b)"
   ]
  },
  {
   "cell_type": "code",
   "execution_count": 53,
   "metadata": {},
   "outputs": [
    {
     "name": "stdout",
     "output_type": "stream",
     "text": [
      "Elements 1 are Nan in the a array\n",
      "Elements [3 5]  are inf in the a array\n",
      "Elements 2 are Nan in the b array\n",
      "Elements []  are inf in the b array\n"
     ]
    }
   ],
   "source": [
    "# We can use the technique with a mask of booleans with .isnan() and .isinf() which return true is the element is a nan or \n",
    "# a inf\n",
    "index = np.arange(len(a))\n",
    "#index_prime = np.arange(len(a))\n",
    "print('Elements %i are Nan in the a array' %index[np.isnan(a)])\n",
    "print('Elements',index[np.isinf(a)],' are inf in the a array')\n",
    "index2 = np.arange(len(b))\n",
    "#index2_prime = np.arange(len(b))\n",
    "print('Elements %i are Nan in the b array' %index2[np.isnan(b)])\n",
    "print('Elements',index2[np.isinf(b)],' are inf in the b array')"
   ]
  },
  {
   "cell_type": "code",
   "execution_count": 54,
   "metadata": {},
   "outputs": [
    {
     "name": "stdout",
     "output_type": "stream",
     "text": [
      "mean =  0.8333333333333334\n",
      "min =  -4.0\n",
      "max =  4.0\n"
     ]
    }
   ],
   "source": [
    "# Calculate the mean, min, max ignoring nan\n",
    "print('mean = ', np.nanmean(b))\n",
    "print('min = ', np.nanmin(b))\n",
    "print('max = ', np.nanmax(b))"
   ]
  },
  {
   "cell_type": "markdown",
   "metadata": {},
   "source": [
    "18) Remove the leading and trailing white spaces from this list of strings: `L = [' I ', ' love', '   white ', ' spaces']` .     \n",
    "Expected output:    \n",
    "`['I', 'love', 'white', 'spaces']`"
   ]
  },
  {
   "cell_type": "code",
   "execution_count": 58,
   "metadata": {},
   "outputs": [
    {
     "data": {
      "text/plain": [
       "['I', 'love', 'white', 'spaces']"
      ]
     },
     "execution_count": 58,
     "metadata": {},
     "output_type": "execute_result"
    }
   ],
   "source": [
    "L = [' I ', ' love', '   white ', ' spaces']\n",
    "L2 = [l.strip() for l in L]\n",
    "L2"
   ]
  },
  {
   "cell_type": "markdown",
   "metadata": {},
   "source": [
    "19) Convert the following string 'model, 1 , 13, 14 \\n' into the following np.array of strings `array(['model', '1', '13', '14'], dtype='<U5')`.  "
   ]
  },
  {
   "cell_type": "code",
   "execution_count": 70,
   "metadata": {},
   "outputs": [
    {
     "data": {
      "text/plain": [
       "'model, 1 , 13, 14'"
      ]
     },
     "execution_count": 70,
     "metadata": {},
     "output_type": "execute_result"
    }
   ],
   "source": [
    "a = 'model, 1 , 13, 14 \\n'\n",
    "a2 = []\n",
    "# We separate the array in sub-arrays\n",
    "a2 = a.split(sep=(','))\n",
    "# We replace the \\n by nothing because we want to delete it\n",
    "a2 = a.replace('\\n','')\n",
    "# We delete the space\n",
    "a2 = a.strip()\n",
    "a2"
   ]
  },
  {
   "cell_type": "code",
   "execution_count": null,
   "metadata": {},
   "outputs": [],
   "source": []
  },
  {
   "cell_type": "markdown",
   "metadata": {},
   "source": [
    "## Reference\n",
    "\n",
    "Some of the exercises from this notebook are inspired by exercises from https://www.w3resource.com/python-exercises/ .   \n",
    "More training exercises can be found there. Several more training exercises are also available on this github (some include also training to Matplotlib): \n",
    "- [Python_training_exercises.ipynb](Python_training_Exercises.ipynb)\n",
    "- [Python_training_exercises_2.ipynb](Python_training_Exercises_2.ipynb)\n",
    "- [Python_training_exercises_3.ipynb](Python_training_Exercises_3.ipynb)"
   ]
  },
  {
   "cell_type": "code",
   "execution_count": null,
   "metadata": {},
   "outputs": [],
   "source": []
  }
 ],
 "metadata": {
  "kernelspec": {
   "display_name": "Python 3",
   "language": "python",
   "name": "python3"
  },
  "language_info": {
   "codemirror_mode": {
    "name": "ipython",
    "version": 3
   },
   "file_extension": ".py",
   "mimetype": "text/x-python",
   "name": "python",
   "nbconvert_exporter": "python",
   "pygments_lexer": "ipython3",
   "version": "3.8.3"
  }
 },
 "nbformat": 4,
 "nbformat_minor": 4
}
