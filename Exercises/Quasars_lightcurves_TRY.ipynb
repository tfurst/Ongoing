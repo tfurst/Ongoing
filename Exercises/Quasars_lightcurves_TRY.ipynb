{
 "cells": [
  {
   "cell_type": "markdown",
   "metadata": {},
   "source": [
    "# Numpy and Matplotlib synthesis exercise\n",
    "\n",
    "\n",
    "Read the data file `Variability_Catalina_list1.csv` which contains lightcurves of an ensemble of objects observed in the context of the Catalina survey (http://nesssi.cacr.caltech.edu/DataRelease/). \n",
    "\n",
    "This file contains the following columns separated by 'tab' characters: `InputID\tID\tMag\tMagerr\tRA\tDecl\tMJD\tBlend`. Their meaning is the following: \n",
    "* [0] `InputID`: Object Name \n",
    "* [1] `ID`: Object ID in the survey\n",
    "* [2] `Mag`: Object Magnitude ($ m = -2.5 * \\log(Flux)$ + zeropoint)\n",
    "* [3] `Magerr`: Formal error on the magnitude\n",
    "* [4] `RA`: Right ascension  (degrees)\n",
    "* [5] `Decl`: Declination  (degrees)\n",
    "* [6] `MJD`: Modified julian day (day). \n",
    "* [7] `Blend`: 0 if the measurement is clean, 1 if there is a possible contamination by another target. \n",
    "\n",
    "The file contains the observed magnitude of the following (gravitationally lensed) quasars: 'DESJ0407-5006', 'HE1104-1805', 'HS2209+1914' 'J0011-0845', 'J0228+3953', 'Q1355-2257', 'SDSSJ0904+1512'. \n",
    "You want to visualise the lightcurve (x=MJD, y=Mag, yerr=Maggerr) associated to each individual object. You also want to measure its mean magnitude, and the standard deviation on the magnitude, as well as its minimum / maximum magnitude over the period of observation and save those value into a table. Try to reach this goal using only \"standard\" python commands and commands from numpy and matplotlib arrays. To ease your task, a possible methodology is outlined below.  \n",
    "\n",
    "**Possible methodology:**\n",
    "- (1) Read the file and save the output into a numpy array. How many rows and columns does contain the array ? What is the dtype of your array ? \n",
    "- (2) Create a sub-array for a single object (e.g. HS2209+1914) using fancy indexing. \n",
    "- (3) create an array with 4 columns `MJD, Mag, magerr, blend` , converting strings to floats.\n",
    "- (4) Get rid of data points with Blend > 0 \n",
    "- (5) Plot the lightcurve at the screen \n",
    "- (6) Calculates mean, std, min, max with numpy \n",
    "- (7) Repeat the operation for the 7 object using a for loop.i.e. you can create a list of arrays, each one containing MJD, mag, magerr for each object. In the same loop you can make a plot. You can include the plotting in the loop. To plot into a single figure, think of using plt.subplots(rows=7, figsize=(15,20)). \n",
    "- BONUS: How would you proceed to know the names of the individual objects if I did not provide the list ? \n",
    "\n",
    "**TIPs:** \n",
    "\n",
    "* A file's row mixes strings and floats. You may therefore first create an array of strings (1 single dtype in an array). One of the arguments of `np.loadtxt()` is the data type, so you can read a list of strings with `np.loadtxt(filename, dtype=str)`\n",
    "* To convert an array of numbers whose type is strings into float: \n",
    "``` python \n",
    "myarray_strings = np.array(['1', '2', '3'])  \n",
    "myarray_floats = np.array(myarray_strings , dtype = float)\n",
    "```"
   ]
  },
  {
   "cell_type": "code",
   "execution_count": 52,
   "metadata": {},
   "outputs": [
    {
     "name": "stdout",
     "output_type": "stream",
     "text": [
      "Here is the mean magnitude : 19.415384615384617\n",
      "Here is the standard variation : 0.48859477286500513\n",
      "Here is the minimum magnitude : 17.04 and the maximum magnitude : 20.52\n"
     ]
    },
    {
     "data": {
      "image/png": "[encoded data removed]",
      "text/plain": [
       "<Figure size 432x288 with 1 Axes>"
      ]
     },
     "metadata": {
      "needs_background": "light"
     },
     "output_type": "display_data"
    }
   ],
   "source": [
    "%matplotlib inline\n",
    "import numpy as np\n",
    "import matplotlib.pyplot as plt\n",
    "\n",
    "# We first read the file as a list of strings\n",
    "data = np.loadtxt('Variability_Catalina_list1.csv', dtype=str)\n",
    "a = np.shape(data)\n",
    "data.dtype\n",
    "# So we see here that we only have strings in our data array\n",
    "\n",
    "# We create a sub array for every object and we include it in a list\n",
    "object1 = []\n",
    "for i in range(2308) :\n",
    "    for j in range(8) : \n",
    "        if data[i,0] == data[0,0] : \n",
    "            object1.append(data[i,j])\n",
    "            \n",
    "first = np.array(object1)\n",
    "a = np.shape(first)\n",
    "first_object = first.reshape((int(a[0] / 8), 8))\n",
    "b = np.shape(first_object)\n",
    "#print(np.shape(first_object))\n",
    "\n",
    "# Then we have to create one sub-array containing Mag, magerr, MJD, blend and we convert it into float\n",
    "col = []\n",
    "for i in range(157) :\n",
    "    for j in range(8) : \n",
    "        if j == 2 or j == 3 or j == 6 or j == 7 : \n",
    "            col.append(first_object[i,j])\n",
    "column = np.array(col)\n",
    "columns = np.array(column.reshape(int((len(column)+2) / 4), 4), dtype = float)\n",
    "\n",
    "# We get rid of points for which Blend > 0 \n",
    "d = np.shape(columns)\n",
    "good_points = []\n",
    "for i in range(d[0]) : \n",
    "    if columns[i,3] == 0 : \n",
    "        for j in range(4) : \n",
    "            good_points.append(columns[i,j])\n",
    "\n",
    "good_ones = np.array(good_points)           \n",
    "good = np.array(good_ones.reshape(int((len(good_ones)+2) / 4), 4))\n",
    "\n",
    "# Then we plot the MJD for the axis, Mag for the y axis and magerr for the y error\n",
    "e = np.shape(good)\n",
    "for i in range(e[0]) : \n",
    "    plt.plot(good[i,2], good[i,0], marker='d', color ='black')\n",
    "    plt.errorbar(good[i,2], good[i,0], good[i,1], 0, color='b', ls='')\n",
    "    plt.xlabel('Modified julian day (day)')\n",
    "    plt.ylabel('Magnitude')\n",
    "    plt.title(data[0,0])\n",
    "    \n",
    "magnitude = []\n",
    "for i in range(e[0]) : \n",
    "    magnitude.append(good[i,0])\n",
    "\n",
    "Magnitude = np.array(magnitude)\n",
    "print('Here is the mean magnitude :' ,Magnitude.mean())\n",
    "print('Here is the standard variation :', Magnitude.std())\n",
    "print('Here is the minimum magnitude :', Magnitude.min(), 'and the maximum magnitude :', Magnitude.max())"
   ]
  },
  {
   "cell_type": "code",
   "execution_count": null,
   "metadata": {},
   "outputs": [],
   "source": []
  }
 ],
 "metadata": {
  "kernelspec": {
   "display_name": "Python 3",
   "language": "python",
   "name": "python3"
  },
  "language_info": {
   "codemirror_mode": {
    "name": "ipython",
    "version": 3
   },
   "file_extension": ".py",
   "mimetype": "text/x-python",
   "name": "python",
   "nbconvert_exporter": "python",
   "pygments_lexer": "ipython3",
   "version": "3.8.3"
  }
 },
 "nbformat": 4,
 "nbformat_minor": 4
}
